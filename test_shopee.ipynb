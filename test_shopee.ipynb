{
 "cells": [
  {
   "cell_type": "markdown",
   "metadata": {},
   "source": [
    "# 蝦皮搶購測試"
   ]
  },
  {
   "cell_type": "code",
   "execution_count": 60,
   "metadata": {},
   "outputs": [
    {
     "name": "stdout",
     "output_type": "stream",
     "text": [
      "Now:  2022-09-11 20:04:07.701023\n",
      "Critical:  2022-09-11 20:05:00\n",
      "Not yet\n",
      "Time Remaining:  0:00:52.298977\n",
      "Go Go!!\n",
      "Now:  2022-09-11 20:05:00.001205\n"
     ]
    }
   ],
   "source": [
    "# 抓取現實時間\n",
    "import time\n",
    "import datetime\n",
    "# today = datetime.date.today()\n",
    "# print(today)\n",
    "now_time = datetime.datetime.now()\n",
    "print('Now: ', now_time)\n",
    "critical_time = datetime.datetime(2022, 9, 11, 20, 5) # 輸入時間\n",
    "print('Critical: ', critical_time)\n",
    "\n",
    "if now_time < critical_time:\n",
    "    print('Not yet')\n",
    "    remain_time = critical_time - now_time\n",
    "    print('Time Remaining: ', remain_time)\n",
    "    time.sleep(remain_time.total_seconds())       \n",
    "\n",
    "after_time = datetime.datetime.now()    \n",
    "if after_time >= critical_time:\n",
    "    print('Go Go!!')\n",
    "    \n",
    "print('Now: ', after_time)\n",
    "    \n",
    "    "
   ]
  },
  {
   "cell_type": "code",
   "execution_count": 69,
   "metadata": {
    "scrolled": false
   },
   "outputs": [],
   "source": [
    "# 進入網站\n",
    "from selenium import webdriver\n",
    "from selenium.webdriver.chrome.service import Service\n",
    "s = Service(\"C:\\\\Users\\\\littleliu\\\\OneDrive\\\\Desktop\\\\python_test\\\\chromedriver.exe\")\n",
    "driver = webdriver.Chrome(service=s)\n",
    "driver.get('https://shopee.tw/')"
   ]
  },
  {
   "cell_type": "code",
   "execution_count": null,
   "metadata": {},
   "outputs": [],
   "source": []
  },
  {
   "cell_type": "code",
   "execution_count": null,
   "metadata": {},
   "outputs": [],
   "source": []
  }
 ],
 "metadata": {
  "kernelspec": {
   "display_name": "Python 3",
   "language": "python",
   "name": "python3"
  },
  "language_info": {
   "codemirror_mode": {
    "name": "ipython",
    "version": 3
   },
   "file_extension": ".py",
   "mimetype": "text/x-python",
   "name": "python",
   "nbconvert_exporter": "python",
   "pygments_lexer": "ipython3",
   "version": "3.8.3"
  }
 },
 "nbformat": 4,
 "nbformat_minor": 4
}
